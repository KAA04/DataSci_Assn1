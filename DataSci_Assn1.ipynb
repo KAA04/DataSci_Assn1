# 2.1 Pre-Processing

## Load the data
import pandas as pd

# Define the column names as the data doesn't have headers
column_names = ['mpg', 'cylinders', 'displacement', 'horsepower', 'weight',
                'acceleration', 'model year', 'origin', 'car name']

# Read the data, handling missing values represented by '?'
df = pd.read_csv('/content/auto-mpg.data', sep='\s+', header=None, names=column_names, na_values='?')

display(df.head())
